{
  "nbformat": 4,
  "nbformat_minor": 0,
  "metadata": {
    "colab": {
      "name": "BERT.ipynb",
      "provenance": [],
      "collapsed_sections": [],
      "authorship_tag": "ABX9TyP23zgl5muAWTHpsAhmmIhR",
      "include_colab_link": true
    },
    "kernelspec": {
      "name": "python3",
      "display_name": "Python 3"
    },
    "language_info": {
      "name": "python"
    }
  },
  "cells": [
    {
      "cell_type": "markdown",
      "metadata": {
        "id": "view-in-github",
        "colab_type": "text"
      },
      "source": [
        "<a href=\"https://colab.research.google.com/github/premswaroopmusti/BERT/blob/main/BERT.ipynb\" target=\"_parent\"><img src=\"https://colab.research.google.com/assets/colab-badge.svg\" alt=\"Open In Colab\"/></a>"
      ]
    },
    {
      "cell_type": "code",
      "execution_count": 14,
      "metadata": {
        "id": "TtOl_KXBJ1wu"
      },
      "outputs": [],
      "source": [
        "import tensorflow_hub as hub\n",
        "import tensorflow_text as text\n",
        "from tensorflow_hub import KerasLayer\n"
      ]
    },
    {
      "cell_type": "code",
      "source": [
        "encoder_url  = 'https://tfhub.dev/tensorflow/bert_en_uncased_L-12_H-768_A-12/4'\n",
        "preprocess_url = 'https://tfhub.dev/tensorflow/bert_en_uncased_preprocess/3'"
      ],
      "metadata": {
        "id": "7_cBgkBrKArk"
      },
      "execution_count": 15,
      "outputs": []
    },
    {
      "cell_type": "markdown",
      "source": [
        "### **Pre-processing stage**"
      ],
      "metadata": {
        "id": "U-kiy5MwVF6X"
      }
    },
    {
      "cell_type": "code",
      "source": [
        "bert_preprocess_model = hub.KerasLayer(preprocess_url)\n"
      ],
      "metadata": {
        "id": "JbIPR12RO64l"
      },
      "execution_count": 16,
      "outputs": []
    },
    {
      "cell_type": "code",
      "source": [
        "text_test = ['nice movie indeed','i love hearing music']\n",
        "text_preprocessed = bert_preprocess_model(text_test)\n",
        "text_preprocessed.keys()"
      ],
      "metadata": {
        "colab": {
          "base_uri": "https://localhost:8080/"
        },
        "id": "NsHVjnAEPQ8p",
        "outputId": "0f930979-2ca1-4669-c2da-1500c6d869e0"
      },
      "execution_count": 17,
      "outputs": [
        {
          "output_type": "execute_result",
          "data": {
            "text/plain": [
              "dict_keys(['input_word_ids', 'input_type_ids', 'input_mask'])"
            ]
          },
          "metadata": {},
          "execution_count": 17
        }
      ]
    },
    {
      "cell_type": "code",
      "source": [
        "text_preprocessed['input_mask']"
      ],
      "metadata": {
        "colab": {
          "base_uri": "https://localhost:8080/"
        },
        "id": "p-WtSj8WQEYO",
        "outputId": "b72e1fee-395d-4813-ca4b-2d2e64bc854c"
      },
      "execution_count": 18,
      "outputs": [
        {
          "output_type": "execute_result",
          "data": {
            "text/plain": [
              "<tf.Tensor: shape=(2, 128), dtype=int32, numpy=\n",
              "array([[1, 1, 1, 1, 1, 0, 0, 0, 0, 0, 0, 0, 0, 0, 0, 0, 0, 0, 0, 0, 0, 0,\n",
              "        0, 0, 0, 0, 0, 0, 0, 0, 0, 0, 0, 0, 0, 0, 0, 0, 0, 0, 0, 0, 0, 0,\n",
              "        0, 0, 0, 0, 0, 0, 0, 0, 0, 0, 0, 0, 0, 0, 0, 0, 0, 0, 0, 0, 0, 0,\n",
              "        0, 0, 0, 0, 0, 0, 0, 0, 0, 0, 0, 0, 0, 0, 0, 0, 0, 0, 0, 0, 0, 0,\n",
              "        0, 0, 0, 0, 0, 0, 0, 0, 0, 0, 0, 0, 0, 0, 0, 0, 0, 0, 0, 0, 0, 0,\n",
              "        0, 0, 0, 0, 0, 0, 0, 0, 0, 0, 0, 0, 0, 0, 0, 0, 0, 0],\n",
              "       [1, 1, 1, 1, 1, 1, 0, 0, 0, 0, 0, 0, 0, 0, 0, 0, 0, 0, 0, 0, 0, 0,\n",
              "        0, 0, 0, 0, 0, 0, 0, 0, 0, 0, 0, 0, 0, 0, 0, 0, 0, 0, 0, 0, 0, 0,\n",
              "        0, 0, 0, 0, 0, 0, 0, 0, 0, 0, 0, 0, 0, 0, 0, 0, 0, 0, 0, 0, 0, 0,\n",
              "        0, 0, 0, 0, 0, 0, 0, 0, 0, 0, 0, 0, 0, 0, 0, 0, 0, 0, 0, 0, 0, 0,\n",
              "        0, 0, 0, 0, 0, 0, 0, 0, 0, 0, 0, 0, 0, 0, 0, 0, 0, 0, 0, 0, 0, 0,\n",
              "        0, 0, 0, 0, 0, 0, 0, 0, 0, 0, 0, 0, 0, 0, 0, 0, 0, 0]],\n",
              "      dtype=int32)>"
            ]
          },
          "metadata": {},
          "execution_count": 18
        }
      ]
    },
    {
      "cell_type": "markdown",
      "source": [
        "here the shape is 2,128\n",
        "\n",
        "2 bcz we have two sentences, and 128 is bcz it is the maximum size of the vector\n",
        "\n",
        "remaining words are 0 in vector bcz u have only 5 words to input\n",
        "\n",
        "now first sentence has 3 words 'nice movie indeed'\n",
        "\n",
        "whereas in the output the  mask is for 5 words\n",
        "\n",
        "Lets understand why\n",
        "\n",
        "the way BERT works is it always puts a speical token called CLS in the beginning.\n",
        "\n",
        "and to seperate two sentences it will use special token called SEP.\n",
        "\n",
        "CLS nice movie indeed SEP\n",
        "\n",
        "so now if we count total words they are 5\n",
        "\n"
      ],
      "metadata": {
        "id": "C2JNSsDmQo03"
      }
    },
    {
      "cell_type": "code",
      "source": [
        "text_preprocessed['input_word_ids']\n",
        "\n",
        "# CLS nice movie indeed SEP\n",
        "# so respective to sentence 1, the word id for CLS is 101, for SEP is 102 and 3835,3185,5262 are the individual unique id's for the words nice movie indeed\n",
        "# these could be the id's from vocabulary\n",
        "# so this is part of the pre-processing stage\n"
      ],
      "metadata": {
        "colab": {
          "base_uri": "https://localhost:8080/"
        },
        "id": "zkw4FBjWQf2p",
        "outputId": "cbc5aae0-42f8-44de-d6f8-a98073fbab80"
      },
      "execution_count": 19,
      "outputs": [
        {
          "output_type": "execute_result",
          "data": {
            "text/plain": [
              "<tf.Tensor: shape=(2, 128), dtype=int32, numpy=\n",
              "array([[ 101, 3835, 3185, 5262,  102,    0,    0,    0,    0,    0,    0,\n",
              "           0,    0,    0,    0,    0,    0,    0,    0,    0,    0,    0,\n",
              "           0,    0,    0,    0,    0,    0,    0,    0,    0,    0,    0,\n",
              "           0,    0,    0,    0,    0,    0,    0,    0,    0,    0,    0,\n",
              "           0,    0,    0,    0,    0,    0,    0,    0,    0,    0,    0,\n",
              "           0,    0,    0,    0,    0,    0,    0,    0,    0,    0,    0,\n",
              "           0,    0,    0,    0,    0,    0,    0,    0,    0,    0,    0,\n",
              "           0,    0,    0,    0,    0,    0,    0,    0,    0,    0,    0,\n",
              "           0,    0,    0,    0,    0,    0,    0,    0,    0,    0,    0,\n",
              "           0,    0,    0,    0,    0,    0,    0,    0,    0,    0,    0,\n",
              "           0,    0,    0,    0,    0,    0,    0,    0,    0,    0,    0,\n",
              "           0,    0,    0,    0,    0,    0,    0],\n",
              "       [ 101, 1045, 2293, 4994, 2189,  102,    0,    0,    0,    0,    0,\n",
              "           0,    0,    0,    0,    0,    0,    0,    0,    0,    0,    0,\n",
              "           0,    0,    0,    0,    0,    0,    0,    0,    0,    0,    0,\n",
              "           0,    0,    0,    0,    0,    0,    0,    0,    0,    0,    0,\n",
              "           0,    0,    0,    0,    0,    0,    0,    0,    0,    0,    0,\n",
              "           0,    0,    0,    0,    0,    0,    0,    0,    0,    0,    0,\n",
              "           0,    0,    0,    0,    0,    0,    0,    0,    0,    0,    0,\n",
              "           0,    0,    0,    0,    0,    0,    0,    0,    0,    0,    0,\n",
              "           0,    0,    0,    0,    0,    0,    0,    0,    0,    0,    0,\n",
              "           0,    0,    0,    0,    0,    0,    0,    0,    0,    0,    0,\n",
              "           0,    0,    0,    0,    0,    0,    0,    0,    0,    0,    0,\n",
              "           0,    0,    0,    0,    0,    0,    0]], dtype=int32)>"
            ]
          },
          "metadata": {},
          "execution_count": 19
        }
      ]
    },
    {
      "cell_type": "markdown",
      "source": [
        "### **Word Embeddings stage**\n",
        "\n"
      ],
      "metadata": {
        "id": "4eCAzmVdVNym"
      }
    },
    {
      "cell_type": "code",
      "source": [
        "bert_model = hub.KerasLayer(encoder_url)"
      ],
      "metadata": {
        "id": "qDcwdJzIUHFr"
      },
      "execution_count": 20,
      "outputs": []
    },
    {
      "cell_type": "code",
      "source": [
        "# let's supply our preprocessed text to our bert_model and model will generate word embeddings in the output\n",
        "bert_results = bert_model(text_preprocessed)\n",
        "bert_results.keys()"
      ],
      "metadata": {
        "colab": {
          "base_uri": "https://localhost:8080/"
        },
        "id": "2EScdFOtVoc5",
        "outputId": "1e317c1d-2a53-409e-b6d9-2d600f7e67ba"
      },
      "execution_count": 21,
      "outputs": [
        {
          "output_type": "execute_result",
          "data": {
            "text/plain": [
              "dict_keys(['pooled_output', 'sequence_output', 'default', 'encoder_outputs'])"
            ]
          },
          "metadata": {},
          "execution_count": 21
        }
      ]
    },
    {
      "cell_type": "code",
      "source": [
        "# pooled ouput is an embedding for the entire sentence\n",
        "bert_results['pooled_output']\n",
        "\n",
        "# we have got two arrays in the output for our 2 sentences \n",
        "# 1st array is the word embedding for the sentence 'nice movie indeed' \n",
        "# size of each embedding vector is 768\n",
        "# so this 768 sized vector accurately represents the statement nice movie indeed\n",
        "\n",
        "# 2nd array is the word embedding for the sentence 'i love hearing music' \n",
        "# size of each embedding vector is 768\n"
      ],
      "metadata": {
        "colab": {
          "base_uri": "https://localhost:8080/"
        },
        "id": "1b627P1pWPKc",
        "outputId": "54f73f8b-cbb4-44ab-9f53-4cd6b11cd80c"
      },
      "execution_count": 22,
      "outputs": [
        {
          "output_type": "execute_result",
          "data": {
            "text/plain": [
              "<tf.Tensor: shape=(2, 768), dtype=float32, numpy=\n",
              "array([[-0.79177415, -0.21411929,  0.497695  , ...,  0.24465187,\n",
              "        -0.47334486,  0.817587  ],\n",
              "       [-0.9320657 , -0.404375  , -0.45862344, ..., -0.24606998,\n",
              "        -0.7063139 ,  0.9461551 ]], dtype=float32)>"
            ]
          },
          "metadata": {},
          "execution_count": 22
        }
      ]
    },
    {
      "cell_type": "code",
      "source": [
        "# sequence output is individual word embedding vectors\n",
        "bert_results['sequence_output']\n",
        "# so the shape of each array is 2,128,768\n",
        "# 2 bcz we have two sentences\n",
        "\n",
        "# ok u will have some padding and u will have total 128\n",
        "# nice movie indeed 0 0 0 0 0  <--128\n",
        "# for each word there is a 768 sized vector \n",
        "# lets say we have word nice in output we have a vector like [ 0.07292047,  0.0856783 ,  0.14476836, ..., -0.09677088, 0.08722125,  0.07711098] in starting\n",
        "# and for word word movie in output we have a vector like [ 0.17839392, -0.19006087,  0.5034945 , ..., -0.05869797,0.32717094, -0.15578584]\n",
        "# in the same way there are total 128 vectors for a sentence\n",
        "# nice movie indeed 0 0 0 0 0  <--128\n",
        "# now we will get a doubt that we have only 3 words then how 128 vectors\n",
        "# so we will do padding    nice movie indeed 0 0 0 0 0  <--128\n",
        "# thats why 128 vectors\n",
        "# now u can ask that u said padding then remaining vectors should contain values as 0, but we can see some numerical values in other vectors too bcz this is a contextualized\n",
        "# padding, so the vector for even padding will have some content of that sentence"
      ],
      "metadata": {
        "colab": {
          "base_uri": "https://localhost:8080/"
        },
        "id": "DfM5kGICWYyS",
        "outputId": "fe733481-527f-4c7f-ccf3-492d0f51e7e0"
      },
      "execution_count": 23,
      "outputs": [
        {
          "output_type": "execute_result",
          "data": {
            "text/plain": [
              "<tf.Tensor: shape=(2, 128, 768), dtype=float32, numpy=\n",
              "array([[[ 0.07292049,  0.08567837,  0.14476836, ..., -0.09677101,\n",
              "          0.08722137,  0.07711073],\n",
              "        [ 0.17839389, -0.19006103,  0.5034947 , ..., -0.0586982 ,\n",
              "          0.32717156, -0.1557859 ],\n",
              "        [ 0.1870147 , -0.43388787, -0.48875108, ..., -0.15502746,\n",
              "          0.00145106, -0.24470964],\n",
              "        ...,\n",
              "        [ 0.12083076,  0.12884216,  0.46453512, ...,  0.0737555 ,\n",
              "          0.17441984,  0.16522063],\n",
              "        [ 0.07967868, -0.01190686,  0.5022539 , ...,  0.13777745,\n",
              "          0.21002242,  0.00624573],\n",
              "        [-0.07212704, -0.28303486,  0.59033346, ...,  0.4755195 ,\n",
              "          0.16668499, -0.08920333]],\n",
              "\n",
              "       [[ 0.15144816,  0.42059615, -0.11882626, ..., -0.24039592,\n",
              "          0.14330676,  0.09407903],\n",
              "        [ 0.5137974 ,  0.43028075, -0.36718598, ..., -0.4015102 ,\n",
              "          0.29820722, -0.12878697],\n",
              "        [ 1.3179296 ,  1.0378271 ,  0.4808857 , ...,  0.21842688,\n",
              "          0.2276538 , -0.22388609],\n",
              "        ...,\n",
              "        [ 0.4198931 ,  0.16965546,  0.39200887, ...,  0.31604224,\n",
              "         -0.16736856, -0.14476359],\n",
              "        [ 0.32880434,  0.17014888,  0.43650588, ...,  0.312406  ,\n",
              "         -0.2186548 , -0.08193885],\n",
              "        [ 0.30253196,  0.10429371,  0.44861943, ...,  0.3410214 ,\n",
              "         -0.20415668, -0.14917502]]], dtype=float32)>"
            ]
          },
          "metadata": {},
          "execution_count": 23
        }
      ]
    },
    {
      "cell_type": "code",
      "source": [
        "len(bert_results['encoder_outputs'])"
      ],
      "metadata": {
        "colab": {
          "base_uri": "https://localhost:8080/"
        },
        "id": "x8XBnerkYaxm",
        "outputId": "1df4341b-eebc-4e21-ccdd-137b5cbd11aa"
      },
      "execution_count": 24,
      "outputs": [
        {
          "output_type": "execute_result",
          "data": {
            "text/plain": [
              "12"
            ]
          },
          "metadata": {},
          "execution_count": 24
        }
      ]
    },
    {
      "cell_type": "markdown",
      "source": [
        "the reason this is 12 bcz we are using \n",
        "BERT base\n",
        "![14.PNG](data:image/png;base64,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)"
      ],
      "metadata": {
        "id": "7MIiU_i4cROJ"
      }
    },
    {
      "cell_type": "code",
      "source": [
        "bert_results['encoder_outputs'][0]\n",
        "# nice movie indeed 0 0 0 0 0   <---- 128\n",
        "# shape of array is 2,128,768\n",
        "# 2 bcz we have two sentences\n",
        "# 128 bcz the sentence has 128 words including the padding\n",
        "# and for each word there is 768 sized embedding vector"
      ],
      "metadata": {
        "colab": {
          "base_uri": "https://localhost:8080/"
        },
        "id": "K_QvQGvdb_oW",
        "outputId": "c3325e4e-4463-47bb-acd1-e746a476cbac"
      },
      "execution_count": 25,
      "outputs": [
        {
          "output_type": "execute_result",
          "data": {
            "text/plain": [
              "<tf.Tensor: shape=(2, 128, 768), dtype=float32, numpy=\n",
              "array([[[ 1.29014328e-01,  6.44741952e-03, -3.61497253e-02, ...,\n",
              "          4.99962717e-02,  6.14920072e-02, -2.65752822e-02],\n",
              "        [ 1.17533827e+00,  1.21407855e+00,  1.15699828e+00, ...,\n",
              "          1.16343506e-01, -3.58553648e-01, -4.04901654e-01],\n",
              "        [ 3.85903642e-02,  5.38699806e-01, -2.10897863e-01, ...,\n",
              "          2.18582243e-01,  7.26016819e-01, -1.11586034e+00],\n",
              "        ...,\n",
              "        [-7.58702010e-02, -2.54219085e-01,  7.07551181e-01, ...,\n",
              "          5.05420029e-01, -1.88786805e-01,  1.50283366e-01],\n",
              "        [-1.60665989e-01, -2.80896872e-01,  5.75970709e-01, ...,\n",
              "          5.27585447e-01, -1.11413911e-01,  2.88756024e-02],\n",
              "        [-4.42816243e-02, -2.02795759e-01,  5.90935528e-01, ...,\n",
              "          8.13383520e-01, -3.90758157e-01, -2.60172784e-02]],\n",
              "\n",
              "       [[ 1.91148892e-01,  7.68799931e-02, -9.14292261e-02, ...,\n",
              "          5.41955233e-03,  1.47287890e-01,  6.03862517e-02],\n",
              "        [ 7.97423899e-01,  1.03932905e+00, -2.06396073e-01, ...,\n",
              "          2.86376923e-01,  7.47406960e-01,  1.91439375e-01],\n",
              "        [ 1.81996667e+00,  7.23843038e-01,  3.62873137e-01, ...,\n",
              "          2.57174522e-01,  5.82544684e-01, -1.50656328e-03],\n",
              "        ...,\n",
              "        [ 1.03326485e-01, -2.48927101e-01,  6.29910529e-01, ...,\n",
              "          2.87988991e-01, -2.91341066e-01,  6.83794394e-02],\n",
              "        [ 1.08896419e-02, -2.85889179e-01,  4.98917729e-01, ...,\n",
              "          3.19064409e-01, -1.94997981e-01, -2.36235633e-02],\n",
              "        [ 1.46538228e-01, -2.01798245e-01,  5.35688400e-01, ...,\n",
              "          6.10581219e-01, -5.07954776e-01, -1.11788273e-01]]],\n",
              "      dtype=float32)>"
            ]
          },
          "metadata": {},
          "execution_count": 25
        }
      ]
    }
  ]
}